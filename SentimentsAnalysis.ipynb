{
 "cells": [
  {
   "cell_type": "code",
   "execution_count": 1,
   "id": "817aa088",
   "metadata": {},
   "outputs": [],
   "source": [
    "import pandas as pd\n",
    "import numpy as np\n",
    "from sklearn.model_selection import train_test_split\n",
    "\n",
    "from sklearn.metrics import accuracy_score\n",
    "from sklearn.metrics import precision_score\n",
    "from sklearn.metrics import recall_score\n",
    "from sklearn.feature_extraction.text import CountVectorizer\n",
    "from sklearn.feature_extraction.text import TfidfTransformer\n",
    "\n",
    "from sklearn.naive_bayes import GaussianNB\n",
    "from sklearn.pipeline import Pipeline\n"
   ]
  },
  {
   "cell_type": "code",
   "execution_count": 2,
   "id": "22be4bf1",
   "metadata": {},
   "outputs": [],
   "source": [
    "imdb_df = pd.read_csv(r\"C:\\Users\\ADMIN\\datasets\\imdb_dataset.csv\", encoding=\"ISO-8859-1\")"
   ]
  },
  {
   "cell_type": "code",
   "execution_count": 3,
   "id": "10d1f209",
   "metadata": {},
   "outputs": [
    {
     "data": {
      "text/plain": [
       "(50000, 2)"
      ]
     },
     "execution_count": 3,
     "metadata": {},
     "output_type": "execute_result"
    }
   ],
   "source": [
    "imdb_df.shape"
   ]
  },
  {
   "cell_type": "code",
   "execution_count": 4,
   "id": "dd9c7d44",
   "metadata": {},
   "outputs": [],
   "source": [
    "imdb_df = imdb_df.sample(10000, replace= False)"
   ]
  },
  {
   "cell_type": "code",
   "execution_count": 5,
   "id": "fc4cb3f0",
   "metadata": {},
   "outputs": [
    {
     "data": {
      "text/html": [
       "<div>\n",
       "<style scoped>\n",
       "    .dataframe tbody tr th:only-of-type {\n",
       "        vertical-align: middle;\n",
       "    }\n",
       "\n",
       "    .dataframe tbody tr th {\n",
       "        vertical-align: top;\n",
       "    }\n",
       "\n",
       "    .dataframe thead th {\n",
       "        text-align: right;\n",
       "    }\n",
       "</style>\n",
       "<table border=\"1\" class=\"dataframe\">\n",
       "  <thead>\n",
       "    <tr style=\"text-align: right;\">\n",
       "      <th></th>\n",
       "      <th>Review</th>\n",
       "      <th>Label</th>\n",
       "    </tr>\n",
       "  </thead>\n",
       "  <tbody>\n",
       "    <tr>\n",
       "      <th>count</th>\n",
       "      <td>10000</td>\n",
       "      <td>10000</td>\n",
       "    </tr>\n",
       "    <tr>\n",
       "      <th>unique</th>\n",
       "      <td>9979</td>\n",
       "      <td>2</td>\n",
       "    </tr>\n",
       "    <tr>\n",
       "      <th>top</th>\n",
       "      <td>I thought Rachel York was fantastic as \"Lucy.\"...</td>\n",
       "      <td>pos</td>\n",
       "    </tr>\n",
       "    <tr>\n",
       "      <th>freq</th>\n",
       "      <td>2</td>\n",
       "      <td>5050</td>\n",
       "    </tr>\n",
       "  </tbody>\n",
       "</table>\n",
       "</div>"
      ],
      "text/plain": [
       "                                                   Review  Label\n",
       "count                                               10000  10000\n",
       "unique                                               9979      2\n",
       "top     I thought Rachel York was fantastic as \"Lucy.\"...    pos\n",
       "freq                                                    2   5050"
      ]
     },
     "execution_count": 5,
     "metadata": {},
     "output_type": "execute_result"
    }
   ],
   "source": [
    "imdb_df.describe()"
   ]
  },
  {
   "cell_type": "code",
   "execution_count": 6,
   "id": "e8ba7c59",
   "metadata": {},
   "outputs": [],
   "source": [
    "X = imdb_df['Review']\n",
    "Y = imdb_df['Label']"
   ]
  },
  {
   "cell_type": "code",
   "execution_count": 7,
   "id": "5e4c6420",
   "metadata": {},
   "outputs": [
    {
     "data": {
      "text/plain": [
       "22353    I think this movie more than any other shows w...\n",
       "19222    Nazarin is some kind of saint,he wants to live...\n",
       "47170    ** Warning - this post may contain spoilers **...\n",
       "44809    This film was great.<br /><br />The plot was p...\n",
       "26832    I don't know where to begin, so I'll begin wit...\n",
       "Name: Review, dtype: object"
      ]
     },
     "execution_count": 7,
     "metadata": {},
     "output_type": "execute_result"
    }
   ],
   "source": [
    "X.head()"
   ]
  },
  {
   "cell_type": "code",
   "execution_count": 8,
   "id": "4beb4938",
   "metadata": {},
   "outputs": [
    {
     "data": {
      "text/plain": [
       "22353    pos\n",
       "19222    pos\n",
       "47170    pos\n",
       "44809    pos\n",
       "26832    neg\n",
       "Name: Label, dtype: object"
      ]
     },
     "execution_count": 8,
     "metadata": {},
     "output_type": "execute_result"
    }
   ],
   "source": [
    "Y.head()"
   ]
  },
  {
   "cell_type": "code",
   "execution_count": 9,
   "id": "1e7284dd",
   "metadata": {},
   "outputs": [],
   "source": [
    "count_vectorizer = CountVectorizer()\n",
    "transformed_vector = count_vectorizer.fit_transform(X)"
   ]
  },
  {
   "cell_type": "code",
   "execution_count": 10,
   "id": "36afa176",
   "metadata": {},
   "outputs": [
    {
     "data": {
      "text/plain": [
       "(10000, 52595)"
      ]
     },
     "execution_count": 10,
     "metadata": {},
     "output_type": "execute_result"
    }
   ],
   "source": [
    "transformed_vector.shape"
   ]
  },
  {
   "cell_type": "code",
   "execution_count": 11,
   "id": "fd3049b6",
   "metadata": {},
   "outputs": [
    {
     "name": "stdout",
     "output_type": "stream",
     "text": [
      "  (0, 46773)\t1\n",
      "  (0, 46798)\t2\n",
      "  (0, 30994)\t1\n",
      "  (0, 30785)\t1\n",
      "  (0, 46614)\t1\n",
      "  (0, 2581)\t1\n",
      "  (0, 33220)\t1\n",
      "  (0, 42009)\t1\n",
      "  (0, 51162)\t1\n",
      "  (0, 20263)\t2\n",
      "  (0, 1103)\t1\n",
      "  (0, 14246)\t1\n",
      "  (0, 4209)\t1\n",
      "  (0, 24553)\t2\n",
      "  (0, 4486)\t1\n",
      "  (0, 41693)\t1\n",
      "  (0, 35279)\t1\n",
      "  (0, 48508)\t1\n",
      "  (0, 14399)\t1\n",
      "  (0, 23370)\t1\n",
      "  (0, 21897)\t1\n",
      "  (0, 40679)\t1\n",
      "  (0, 51215)\t1\n",
      "  (0, 43268)\t1\n",
      "  (0, 31851)\t1\n",
      "  (0, 23116)\t1\n",
      "  (0, 21723)\t1\n",
      "  (0, 4637)\t1\n",
      "  (0, 17802)\t1\n",
      "  (0, 51618)\t1\n",
      "  (0, 27797)\t1\n",
      "  (0, 32696)\t1\n",
      "  (0, 26710)\t1\n",
      "  (0, 13870)\t1\n",
      "  (0, 49638)\t1\n",
      "  (0, 19774)\t1\n",
      "  (0, 18095)\t1\n",
      "  (0, 46828)\t1\n",
      "  (0, 17153)\t1\n",
      "  (0, 19912)\t1\n",
      "  (0, 31003)\t1\n",
      "  (0, 6899)\t1\n",
      "  (0, 37716)\t1\n",
      "  (0, 15547)\t1\n",
      "  (0, 32871)\t1\n"
     ]
    }
   ],
   "source": [
    "print(transformed_vector[0])"
   ]
  },
  {
   "cell_type": "code",
   "execution_count": 14,
   "id": "87dff9fc",
   "metadata": {},
   "outputs": [],
   "source": [
    "tfidf_transformer = TfidfTransformer()\n",
    "tfidf_vector = tfidf_transformer.fit_transform(transformed_vector)"
   ]
  },
  {
   "cell_type": "code",
   "execution_count": 15,
   "id": "73c2e64c",
   "metadata": {},
   "outputs": [
    {
     "name": "stdout",
     "output_type": "stream",
     "text": [
      "  (0, 51618)\t0.05708296104182298\n",
      "  (0, 51215)\t0.0928534376855517\n",
      "  (0, 51162)\t0.08169768666731038\n",
      "  (0, 49638)\t0.18269714255202893\n",
      "  (0, 48508)\t0.2255811067814406\n",
      "  (0, 46828)\t0.12225984726499456\n",
      "  (0, 46798)\t0.09258017171354828\n",
      "  (0, 46773)\t0.1069317999233832\n",
      "  (0, 46614)\t0.09572827230663665\n",
      "  (0, 43268)\t0.11900729802928554\n",
      "  (0, 42009)\t0.15138323286969776\n",
      "  (0, 41693)\t0.10730826119003875\n",
      "  (0, 40679)\t0.1644952070897479\n",
      "  (0, 37716)\t0.09189133433400971\n",
      "  (0, 35279)\t0.1525949708245609\n",
      "  (0, 33220)\t0.09669080199444084\n",
      "  (0, 32871)\t0.06584031993738658\n",
      "  (0, 32696)\t0.044256289802619524\n",
      "  (0, 31851)\t0.11036234599044425\n",
      "  (0, 31003)\t0.10650007414597512\n",
      "  (0, 30994)\t0.06272062875444892\n",
      "  (0, 30785)\t0.08548587296117018\n",
      "  (0, 27797)\t0.1946927640403553\n",
      "  (0, 26710)\t0.19888538298311556\n",
      "  (0, 24553)\t0.09329957660340515\n",
      "  (0, 23370)\t0.04734994227639232\n",
      "  (0, 23116)\t0.2805652531220936\n",
      "  (0, 21897)\t0.15104335125665955\n",
      "  (0, 21723)\t0.09963538836765928\n",
      "  (0, 20263)\t0.19910516157065966\n",
      "  (0, 19912)\t0.08174096002152383\n",
      "  (0, 19774)\t0.1196166040558592\n",
      "  (0, 18095)\t0.05643235557663878\n",
      "  (0, 17802)\t0.172148181760596\n",
      "  (0, 17153)\t0.14008268261839155\n",
      "  (0, 15547)\t0.17014464897369994\n",
      "  (0, 14399)\t0.3469048944974055\n",
      "  (0, 14246)\t0.263545794442442\n",
      "  (0, 13870)\t0.09878207211917914\n",
      "  (0, 6899)\t0.05627274281527273\n",
      "  (0, 4637)\t0.10974614694870377\n",
      "  (0, 4486)\t0.10065901860359822\n",
      "  (0, 4209)\t0.29347196947656096\n",
      "  (0, 2581)\t0.10468516608765144\n",
      "  (0, 1103)\t0.1771972116003934\n"
     ]
    }
   ],
   "source": [
    "print(tfidf_vector[0])"
   ]
  },
  {
   "cell_type": "code",
   "execution_count": 24,
   "id": "bb9a0a5e",
   "metadata": {},
   "outputs": [],
   "source": [
    "x_train, x_test, y_train, y_test = train_test_split(tfidf_vector, Y, test_size = 0.2)"
   ]
  },
  {
   "cell_type": "code",
   "execution_count": 25,
   "id": "1eda3511",
   "metadata": {},
   "outputs": [
    {
     "data": {
      "text/plain": [
       "((8000, 52595), (2000, 52595))"
      ]
     },
     "execution_count": 25,
     "metadata": {},
     "output_type": "execute_result"
    }
   ],
   "source": [
    "x_train.shape, x_test.shape"
   ]
  },
  {
   "cell_type": "code",
   "execution_count": 26,
   "id": "e8b83661",
   "metadata": {},
   "outputs": [
    {
     "data": {
      "text/plain": [
       "((8000,), (2000,))"
      ]
     },
     "execution_count": 26,
     "metadata": {},
     "output_type": "execute_result"
    }
   ],
   "source": [
    "y_train.shape, y_test.shape"
   ]
  },
  {
   "cell_type": "code",
   "execution_count": 27,
   "id": "02d01a6f",
   "metadata": {},
   "outputs": [],
   "source": [
    "def summarize_classification(y_test, y_pred):\n",
    "    acc = accuracy_score(y_test, y_pred,normalize=True)\n",
    "    num_acc = accuracy_score(y_test,y_pred,normalize=True)\n",
    "    prec = precision_score(y_test, y_pred, average='weighted')\n",
    "    recall = recall_score(y_test, y_pred, average='weighted')\n",
    "\n",
    "    print(\"length of testing data:\", len(y_test))\n",
    "    print(\"accuracy_count:\", num_acc)\n",
    "    print(\"accuracy_score:\", acc)    \n",
    "    print(\"precision_count:\", prec)\n",
    "    print(\"recall_count:\", recall)\n"
   ]
  },
  {
   "cell_type": "code",
   "execution_count": 28,
   "id": "4ab06587",
   "metadata": {},
   "outputs": [],
   "source": [
    "clf = GaussianNB().fit(x_train.toarray(), y_train)"
   ]
  },
  {
   "cell_type": "code",
   "execution_count": 29,
   "id": "facd5526",
   "metadata": {},
   "outputs": [],
   "source": [
    "y_pred = clf.predict(x_test.toarray())"
   ]
  },
  {
   "cell_type": "code",
   "execution_count": 31,
   "id": "33aa0502",
   "metadata": {},
   "outputs": [
    {
     "name": "stdout",
     "output_type": "stream",
     "text": [
      "length of testing data: 2000\n",
      "accuracy_count: 0.615\n",
      "accuracy_score: 0.615\n",
      "precision_count: 0.6160873805666679\n",
      "recall_count: 0.615\n"
     ]
    }
   ],
   "source": [
    "summarize_classification(y_test, y_pred)"
   ]
  },
  {
   "cell_type": "code",
   "execution_count": null,
   "id": "fa195ff0",
   "metadata": {},
   "outputs": [],
   "source": []
  }
 ],
 "metadata": {
  "kernelspec": {
   "display_name": "Python 3 (ipykernel)",
   "language": "python",
   "name": "python3"
  },
  "language_info": {
   "codemirror_mode": {
    "name": "ipython",
    "version": 3
   },
   "file_extension": ".py",
   "mimetype": "text/x-python",
   "name": "python",
   "nbconvert_exporter": "python",
   "pygments_lexer": "ipython3",
   "version": "3.10.9"
  }
 },
 "nbformat": 4,
 "nbformat_minor": 5
}
