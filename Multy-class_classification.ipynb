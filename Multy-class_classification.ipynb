{
 "cells": [
  {
   "cell_type": "code",
   "execution_count": 31,
   "id": "6c98cbae",
   "metadata": {},
   "outputs": [],
   "source": [
    "import pandas as pd\n",
    "import numpy as np\n",
    "from sklearn.model_selection import train_test_split\n",
    "\n",
    "from sklearn.metrics import accuracy_score\n",
    "from sklearn.metrics import precision_score\n",
    "from sklearn.metrics import recall_score\n",
    "from sklearn.feature_extraction.text import CountVectorizer\n",
    "from sklearn.feature_extraction.text import TfidfTransformer\n",
    "\n",
    "from sklearn.naive_bayes import GaussianNB\n",
    "from sklearn.pipeline import Pipeline\n"
   ]
  },
  {
   "cell_type": "code",
   "execution_count": 32,
   "id": "1e81e960",
   "metadata": {},
   "outputs": [
    {
     "data": {
      "text/html": [
       "<div>\n",
       "<style scoped>\n",
       "    .dataframe tbody tr th:only-of-type {\n",
       "        vertical-align: middle;\n",
       "    }\n",
       "\n",
       "    .dataframe tbody tr th {\n",
       "        vertical-align: top;\n",
       "    }\n",
       "\n",
       "    .dataframe thead th {\n",
       "        text-align: right;\n",
       "    }\n",
       "</style>\n",
       "<table border=\"1\" class=\"dataframe\">\n",
       "  <thead>\n",
       "    <tr style=\"text-align: right;\">\n",
       "      <th></th>\n",
       "      <th>question_text</th>\n",
       "      <th>question_topic</th>\n",
       "    </tr>\n",
       "  </thead>\n",
       "  <tbody>\n",
       "    <tr>\n",
       "      <th>495</th>\n",
       "      <td>Which laptop has the better screen resolution-...</td>\n",
       "      <td>Product Comparison</td>\n",
       "    </tr>\n",
       "    <tr>\n",
       "      <th>3916</th>\n",
       "      <td>I'm looking to buy the Laska Bootie (WEB ITEM:...</td>\n",
       "      <td>Product Comparison</td>\n",
       "    </tr>\n",
       "    <tr>\n",
       "      <th>883</th>\n",
       "      <td>If I order Product Code: 149738 and need to ex...</td>\n",
       "      <td>Returns &amp; Refunds</td>\n",
       "    </tr>\n",
       "    <tr>\n",
       "      <th>1430</th>\n",
       "      <td>What are the dimensions of the Floral Silk Chi...</td>\n",
       "      <td>Product Specifications</td>\n",
       "    </tr>\n",
       "    <tr>\n",
       "      <th>3454</th>\n",
       "      <td>I'm looking for a new pair of flats. Do you ha...</td>\n",
       "      <td>Product Availability</td>\n",
       "    </tr>\n",
       "    <tr>\n",
       "      <th>2986</th>\n",
       "      <td>I'm checking out Product Code: 141487. Do you ...</td>\n",
       "      <td>Returns &amp; Refunds</td>\n",
       "    </tr>\n",
       "    <tr>\n",
       "      <th>3604</th>\n",
       "      <td>Do you have any turtleneck sweaters in black a...</td>\n",
       "      <td>Product Availability</td>\n",
       "    </tr>\n",
       "    <tr>\n",
       "      <th>2563</th>\n",
       "      <td>Im looking at this table saw (Item # 530411), ...</td>\n",
       "      <td>Product Availability</td>\n",
       "    </tr>\n",
       "    <tr>\n",
       "      <th>4405</th>\n",
       "      <td>If I were to get the Spring Passion Tulips [Pr...</td>\n",
       "      <td>Returns &amp; Refunds</td>\n",
       "    </tr>\n",
       "    <tr>\n",
       "      <th>4435</th>\n",
       "      <td>I think I want to get the Twill jacket (WEB IT...</td>\n",
       "      <td>Returns &amp; Refunds</td>\n",
       "    </tr>\n",
       "  </tbody>\n",
       "</table>\n",
       "</div>"
      ],
      "text/plain": [
       "                                          question_text  \\\n",
       "495   Which laptop has the better screen resolution-...   \n",
       "3916  I'm looking to buy the Laska Bootie (WEB ITEM:...   \n",
       "883   If I order Product Code: 149738 and need to ex...   \n",
       "1430  What are the dimensions of the Floral Silk Chi...   \n",
       "3454  I'm looking for a new pair of flats. Do you ha...   \n",
       "2986  I'm checking out Product Code: 141487. Do you ...   \n",
       "3604  Do you have any turtleneck sweaters in black a...   \n",
       "2563  Im looking at this table saw (Item # 530411), ...   \n",
       "4405  If I were to get the Spring Passion Tulips [Pr...   \n",
       "4435  I think I want to get the Twill jacket (WEB IT...   \n",
       "\n",
       "              question_topic  \n",
       "495       Product Comparison  \n",
       "3916      Product Comparison  \n",
       "883        Returns & Refunds  \n",
       "1430  Product Specifications  \n",
       "3454    Product Availability  \n",
       "2986       Returns & Refunds  \n",
       "3604    Product Availability  \n",
       "2563    Product Availability  \n",
       "4405       Returns & Refunds  \n",
       "4435       Returns & Refunds  "
      ]
     },
     "execution_count": 32,
     "metadata": {},
     "output_type": "execute_result"
    }
   ],
   "source": [
    "question_df = pd.read_csv(r\"C:\\Users\\ADMIN\\datasets\\question_topic.csv\")\n",
    "question_df.sample(10)"
   ]
  },
  {
   "cell_type": "code",
   "execution_count": 33,
   "id": "b64c14ab",
   "metadata": {},
   "outputs": [
    {
     "data": {
      "text/plain": [
       "(5000, 2)"
      ]
     },
     "execution_count": 33,
     "metadata": {},
     "output_type": "execute_result"
    }
   ],
   "source": [
    "question_df.shape"
   ]
  },
  {
   "cell_type": "code",
   "execution_count": 34,
   "id": "ffe9c632",
   "metadata": {},
   "outputs": [
    {
     "data": {
      "text/plain": [
       "array(['Sales/Promotions', 'Shipping', 'Product Availability',\n",
       "       'Product Specifications', 'Omnichannel', 'Product Comparison',\n",
       "       'Returns & Refunds'], dtype=object)"
      ]
     },
     "execution_count": 34,
     "metadata": {},
     "output_type": "execute_result"
    }
   ],
   "source": [
    "question_df['question_topic'].unique()"
   ]
  },
  {
   "cell_type": "code",
   "execution_count": 35,
   "id": "ae4a7456",
   "metadata": {},
   "outputs": [],
   "source": [
    "X = question_df['question_text']\n",
    "Y = question_df['question_topic']"
   ]
  },
  {
   "cell_type": "code",
   "execution_count": 36,
   "id": "b20fab02",
   "metadata": {},
   "outputs": [
    {
     "data": {
      "text/plain": [
       "0    Hi! If I sign up for your email list, can I se...\n",
       "1    I'm going to be out of the country for about a...\n",
       "2    I was wondering if you'd be able to overnight ...\n",
       "3    The Swingline electronic stapler (472555) look...\n",
       "4    I think this cosmetic bag would work great for...\n",
       "Name: question_text, dtype: object"
      ]
     },
     "execution_count": 36,
     "metadata": {},
     "output_type": "execute_result"
    }
   ],
   "source": [
    "X.head()"
   ]
  },
  {
   "cell_type": "code",
   "execution_count": 37,
   "id": "4149bed8",
   "metadata": {},
   "outputs": [
    {
     "data": {
      "text/plain": [
       "0    Sales/Promotions\n",
       "1            Shipping\n",
       "2            Shipping\n",
       "3            Shipping\n",
       "4            Shipping\n",
       "Name: question_topic, dtype: object"
      ]
     },
     "execution_count": 37,
     "metadata": {},
     "output_type": "execute_result"
    }
   ],
   "source": [
    "Y.head()"
   ]
  },
  {
   "cell_type": "code",
   "execution_count": 38,
   "id": "4d48aed5",
   "metadata": {},
   "outputs": [],
   "source": [
    "count_vectorizer = CountVectorizer(ngram_range=(2,2))\n",
    "transformed_vector = count_vectorizer.fit_transform(X)"
   ]
  },
  {
   "cell_type": "code",
   "execution_count": 39,
   "id": "650d7fc0",
   "metadata": {},
   "outputs": [
    {
     "data": {
      "text/plain": [
       "(5000, 29892)"
      ]
     },
     "execution_count": 39,
     "metadata": {},
     "output_type": "execute_result"
    }
   ],
   "source": [
    "transformed_vector.shape"
   ]
  },
  {
   "cell_type": "code",
   "execution_count": 40,
   "id": "75314e8a",
   "metadata": {},
   "outputs": [],
   "source": [
    "tfidf_transformer = TfidfTransformer()\n",
    "tfidf_vector = tfidf_transformer.fit_transform(transformed_vector)"
   ]
  },
  {
   "cell_type": "code",
   "execution_count": 41,
   "id": "fdca2b48",
   "metadata": {},
   "outputs": [],
   "source": [
    "X_dense=tfidf_vector.todense()"
   ]
  },
  {
   "cell_type": "code",
   "execution_count": 42,
   "id": "6057247e",
   "metadata": {},
   "outputs": [
    {
     "data": {
      "text/plain": [
       "(5000, 29892)"
      ]
     },
     "execution_count": 42,
     "metadata": {},
     "output_type": "execute_result"
    }
   ],
   "source": [
    "X_dense.shape"
   ]
  },
  {
   "cell_type": "code",
   "execution_count": 43,
   "id": "58100790",
   "metadata": {},
   "outputs": [],
   "source": [
    "x_train, x_test, y_train, y_test = train_test_split(X, Y, test_size = 0.2)"
   ]
  },
  {
   "cell_type": "code",
   "execution_count": 44,
   "id": "7bf8aa76",
   "metadata": {},
   "outputs": [
    {
     "data": {
      "text/plain": [
       "((4000,), (1000,))"
      ]
     },
     "execution_count": 44,
     "metadata": {},
     "output_type": "execute_result"
    }
   ],
   "source": [
    "x_train.shape, x_test.shape"
   ]
  },
  {
   "cell_type": "code",
   "execution_count": 45,
   "id": "63a278c5",
   "metadata": {},
   "outputs": [
    {
     "data": {
      "text/plain": [
       "((4000,), (1000,))"
      ]
     },
     "execution_count": 45,
     "metadata": {},
     "output_type": "execute_result"
    }
   ],
   "source": [
    "y_train.shape, y_test.shape"
   ]
  },
  {
   "cell_type": "code",
   "execution_count": 46,
   "id": "a8706665",
   "metadata": {},
   "outputs": [],
   "source": [
    "def summarize_classification(y_test, y_pred,avg_method='weighted'):\n",
    "    acc = accuracy_score(y_test, y_pred,normalize=True)\n",
    "    num_acc = accuracy_score(y_test,y_pred,normalize=True)\n",
    "    prec = precision_score(y_test, y_pred, average=avg_method)\n",
    "    recall = recall_score(y_test, y_pred, average=avg_method)\n",
    "\n",
    "    print(\"length of testing data:\", len(y_test))\n",
    "    print(\"accuracy_count:\", num_acc)\n",
    "    print(\"accuracy_score:\", acc)    \n",
    "    print(\"precision_count:\", prec)\n",
    "    print(\"recall_count:\", recall)\n",
    "\n",
    "\n"
   ]
  },
  {
   "cell_type": "code",
   "execution_count": 47,
   "id": "59c2c262",
   "metadata": {},
   "outputs": [
    {
     "name": "stdout",
     "output_type": "stream",
     "text": [
      "object\n",
      "object\n",
      "object\n",
      "object\n"
     ]
    }
   ],
   "source": [
    "\n",
    "\n",
    "print(x_train.dtype)\n",
    "print(y_train.dtype)\n",
    "print(x_test.dtype)\n",
    "print(y_test.dtype)\n"
   ]
  },
  {
   "cell_type": "code",
   "execution_count": 49,
   "id": "bd0664d1",
   "metadata": {},
   "outputs": [],
   "source": [
    "from sklearn.feature_extraction.text import CountVectorizer\n",
    "\n",
    "# Initialize the vectorizer\n",
    "vectorizer = CountVectorizer()\n",
    "X_train_counts = vectorizer.fit_transform(x_train)  # x_train is the text data\n",
    "\n",
    "# Now use the transformed data to fit the model\n",
    "clf = GaussianNB().fit(X_train_counts.toarray(), y_train)\n"
   ]
  },
  {
   "cell_type": "code",
   "execution_count": 50,
   "id": "30980a51",
   "metadata": {},
   "outputs": [],
   "source": [
    "X_test_counts = vectorizer.transform(x_test)  # Transform x_test using the same vectorizer\n",
    "y_pred = clf.predict(X_test_counts.toarray())\n"
   ]
  },
  {
   "cell_type": "code",
   "execution_count": 51,
   "id": "02b830ac",
   "metadata": {},
   "outputs": [
    {
     "name": "stdout",
     "output_type": "stream",
     "text": [
      "length of testing data: 1000\n",
      "accuracy_count: 0.875\n",
      "accuracy_score: 0.875\n",
      "precision_count: 0.8747759870286163\n",
      "recall_count: 0.875\n"
     ]
    }
   ],
   "source": [
    "summarize_classification(y_test, y_pred)"
   ]
  },
  {
   "cell_type": "code",
   "execution_count": 52,
   "id": "102fe6e1",
   "metadata": {},
   "outputs": [
    {
     "data": {
      "text/plain": [
       "1712               Omnichannel\n",
       "4446        Product Comparison\n",
       "566          Returns & Refunds\n",
       "3278    Product Specifications\n",
       "2527                  Shipping\n",
       "Name: question_topic, dtype: object"
      ]
     },
     "execution_count": 52,
     "metadata": {},
     "output_type": "execute_result"
    }
   ],
   "source": [
    "y_test.head()"
   ]
  },
  {
   "cell_type": "code",
   "execution_count": 55,
   "id": "e57eb1b3",
   "metadata": {},
   "outputs": [],
   "source": [
    "y_test = np.array(y_test)"
   ]
  },
  {
   "cell_type": "code",
   "execution_count": 57,
   "id": "431fa91c",
   "metadata": {},
   "outputs": [
    {
     "ename": "SyntaxError",
     "evalue": "invalid syntax (1586401199.py, line 1)",
     "output_type": "error",
     "traceback": [
      "\u001b[1;36m  Cell \u001b[1;32mIn[57], line 1\u001b[1;36m\u001b[0m\n\u001b[1;33m    pred_results = pd.Dataframe(('y_test': pd.series(y_test),'y_pred': pd.series(y_pred)))\u001b[0m\n\u001b[1;37m                                         ^\u001b[0m\n\u001b[1;31mSyntaxError\u001b[0m\u001b[1;31m:\u001b[0m invalid syntax\n"
     ]
    }
   ],
   "source": [
    "pred_results = pd.Dataframe(('y_test': pd.series(y_test),'y_pred': pd.series(y_pred)))\n",
    "pred_results.sample(10)"
   ]
  },
  {
   "cell_type": "code",
   "execution_count": null,
   "id": "988fde72",
   "metadata": {},
   "outputs": [],
   "source": []
  }
 ],
 "metadata": {
  "kernelspec": {
   "display_name": "Python 3 (ipykernel)",
   "language": "python",
   "name": "python3"
  },
  "language_info": {
   "codemirror_mode": {
    "name": "ipython",
    "version": 3
   },
   "file_extension": ".py",
   "mimetype": "text/x-python",
   "name": "python",
   "nbconvert_exporter": "python",
   "pygments_lexer": "ipython3",
   "version": "3.10.9"
  }
 },
 "nbformat": 4,
 "nbformat_minor": 5
}
